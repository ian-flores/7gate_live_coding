{
 "cells": [
  {
   "cell_type": "code",
   "execution_count": 1,
   "metadata": {},
   "outputs": [],
   "source": [
    "import pandas as pd"
   ]
  },
  {
   "cell_type": "code",
   "execution_count": 2,
   "metadata": {},
   "outputs": [],
   "source": [
    "census_data = pd.read_csv('census_income_data.csv')"
   ]
  },
  {
   "cell_type": "code",
   "execution_count": 3,
   "metadata": {},
   "outputs": [
    {
     "data": {
      "text/html": [
       "<div>\n",
       "<style scoped>\n",
       "    .dataframe tbody tr th:only-of-type {\n",
       "        vertical-align: middle;\n",
       "    }\n",
       "\n",
       "    .dataframe tbody tr th {\n",
       "        vertical-align: top;\n",
       "    }\n",
       "\n",
       "    .dataframe thead th {\n",
       "        text-align: right;\n",
       "    }\n",
       "</style>\n",
       "<table border=\"1\" class=\"dataframe\">\n",
       "  <thead>\n",
       "    <tr style=\"text-align: right;\">\n",
       "      <th></th>\n",
       "      <th>age</th>\n",
       "      <th>workclass</th>\n",
       "      <th>fnlwgt</th>\n",
       "      <th>education</th>\n",
       "      <th>education_num</th>\n",
       "      <th>marital_status</th>\n",
       "      <th>occupation</th>\n",
       "      <th>relationship</th>\n",
       "      <th>race</th>\n",
       "      <th>sex</th>\n",
       "      <th>capital_gain</th>\n",
       "      <th>capital_loss</th>\n",
       "      <th>hours_per_week</th>\n",
       "      <th>native_country</th>\n",
       "      <th>income_level</th>\n",
       "    </tr>\n",
       "  </thead>\n",
       "  <tbody>\n",
       "    <tr>\n",
       "      <th>0</th>\n",
       "      <td>39.0</td>\n",
       "      <td>7.0</td>\n",
       "      <td>77516.0</td>\n",
       "      <td>9.0</td>\n",
       "      <td>13.0</td>\n",
       "      <td>4.0</td>\n",
       "      <td>1.0</td>\n",
       "      <td>1.0</td>\n",
       "      <td>4.0</td>\n",
       "      <td>1.0</td>\n",
       "      <td>2174.0</td>\n",
       "      <td>0.0</td>\n",
       "      <td>40.0</td>\n",
       "      <td>39.0</td>\n",
       "      <td>0.0</td>\n",
       "    </tr>\n",
       "    <tr>\n",
       "      <th>1</th>\n",
       "      <td>50.0</td>\n",
       "      <td>6.0</td>\n",
       "      <td>83311.0</td>\n",
       "      <td>9.0</td>\n",
       "      <td>13.0</td>\n",
       "      <td>2.0</td>\n",
       "      <td>4.0</td>\n",
       "      <td>0.0</td>\n",
       "      <td>4.0</td>\n",
       "      <td>1.0</td>\n",
       "      <td>0.0</td>\n",
       "      <td>0.0</td>\n",
       "      <td>13.0</td>\n",
       "      <td>39.0</td>\n",
       "      <td>0.0</td>\n",
       "    </tr>\n",
       "    <tr>\n",
       "      <th>2</th>\n",
       "      <td>38.0</td>\n",
       "      <td>4.0</td>\n",
       "      <td>215646.0</td>\n",
       "      <td>11.0</td>\n",
       "      <td>9.0</td>\n",
       "      <td>0.0</td>\n",
       "      <td>6.0</td>\n",
       "      <td>1.0</td>\n",
       "      <td>4.0</td>\n",
       "      <td>1.0</td>\n",
       "      <td>0.0</td>\n",
       "      <td>0.0</td>\n",
       "      <td>40.0</td>\n",
       "      <td>39.0</td>\n",
       "      <td>0.0</td>\n",
       "    </tr>\n",
       "    <tr>\n",
       "      <th>3</th>\n",
       "      <td>53.0</td>\n",
       "      <td>4.0</td>\n",
       "      <td>234721.0</td>\n",
       "      <td>1.0</td>\n",
       "      <td>7.0</td>\n",
       "      <td>2.0</td>\n",
       "      <td>6.0</td>\n",
       "      <td>0.0</td>\n",
       "      <td>2.0</td>\n",
       "      <td>1.0</td>\n",
       "      <td>0.0</td>\n",
       "      <td>0.0</td>\n",
       "      <td>40.0</td>\n",
       "      <td>39.0</td>\n",
       "      <td>0.0</td>\n",
       "    </tr>\n",
       "    <tr>\n",
       "      <th>4</th>\n",
       "      <td>28.0</td>\n",
       "      <td>4.0</td>\n",
       "      <td>338409.0</td>\n",
       "      <td>9.0</td>\n",
       "      <td>13.0</td>\n",
       "      <td>2.0</td>\n",
       "      <td>10.0</td>\n",
       "      <td>5.0</td>\n",
       "      <td>2.0</td>\n",
       "      <td>0.0</td>\n",
       "      <td>0.0</td>\n",
       "      <td>0.0</td>\n",
       "      <td>40.0</td>\n",
       "      <td>5.0</td>\n",
       "      <td>0.0</td>\n",
       "    </tr>\n",
       "  </tbody>\n",
       "</table>\n",
       "</div>"
      ],
      "text/plain": [
       "    age  workclass    fnlwgt  education  education_num  marital_status  \\\n",
       "0  39.0        7.0   77516.0        9.0           13.0             4.0   \n",
       "1  50.0        6.0   83311.0        9.0           13.0             2.0   \n",
       "2  38.0        4.0  215646.0       11.0            9.0             0.0   \n",
       "3  53.0        4.0  234721.0        1.0            7.0             2.0   \n",
       "4  28.0        4.0  338409.0        9.0           13.0             2.0   \n",
       "\n",
       "   occupation  relationship  race  sex  capital_gain  capital_loss  \\\n",
       "0         1.0           1.0   4.0  1.0        2174.0           0.0   \n",
       "1         4.0           0.0   4.0  1.0           0.0           0.0   \n",
       "2         6.0           1.0   4.0  1.0           0.0           0.0   \n",
       "3         6.0           0.0   2.0  1.0           0.0           0.0   \n",
       "4        10.0           5.0   2.0  0.0           0.0           0.0   \n",
       "\n",
       "   hours_per_week  native_country  income_level  \n",
       "0            40.0            39.0           0.0  \n",
       "1            13.0            39.0           0.0  \n",
       "2            40.0            39.0           0.0  \n",
       "3            40.0            39.0           0.0  \n",
       "4            40.0             5.0           0.0  "
      ]
     },
     "execution_count": 3,
     "metadata": {},
     "output_type": "execute_result"
    }
   ],
   "source": [
    "census_data.head()"
   ]
  },
  {
   "cell_type": "code",
   "execution_count": 4,
   "metadata": {},
   "outputs": [
    {
     "data": {
      "text/plain": [
       "0.0    37155\n",
       "1.0    11687\n",
       "Name: income_level, dtype: int64"
      ]
     },
     "execution_count": 4,
     "metadata": {},
     "output_type": "execute_result"
    }
   ],
   "source": [
    "census_data.income_level.value_counts()"
   ]
  },
  {
   "cell_type": "code",
   "execution_count": 5,
   "metadata": {},
   "outputs": [],
   "source": [
    "census_data['sex'] = census_data['sex'].astype(str)\n",
    "\n",
    "str_columns = ['sex', 'workclass', 'education', 'marital_status',\n",
    "              'occupation', 'relationship', 'race', 'native_country', \n",
    "               'income_level']\n",
    "\n",
    "for column in str_columns:\n",
    "    census_data[column] = census_data[column].astype(str)"
   ]
  },
  {
   "cell_type": "code",
   "execution_count": 6,
   "metadata": {},
   "outputs": [
    {
     "data": {
      "text/html": [
       "<div>\n",
       "<style scoped>\n",
       "    .dataframe tbody tr th:only-of-type {\n",
       "        vertical-align: middle;\n",
       "    }\n",
       "\n",
       "    .dataframe tbody tr th {\n",
       "        vertical-align: top;\n",
       "    }\n",
       "\n",
       "    .dataframe thead th {\n",
       "        text-align: right;\n",
       "    }\n",
       "</style>\n",
       "<table border=\"1\" class=\"dataframe\">\n",
       "  <thead>\n",
       "    <tr style=\"text-align: right;\">\n",
       "      <th></th>\n",
       "      <th>age</th>\n",
       "      <th>fnlwgt</th>\n",
       "      <th>education_num</th>\n",
       "      <th>capital_gain</th>\n",
       "      <th>capital_loss</th>\n",
       "      <th>hours_per_week</th>\n",
       "    </tr>\n",
       "  </thead>\n",
       "  <tbody>\n",
       "    <tr>\n",
       "      <th>count</th>\n",
       "      <td>48842.000000</td>\n",
       "      <td>4.884200e+04</td>\n",
       "      <td>48842.000000</td>\n",
       "      <td>48842.000000</td>\n",
       "      <td>48842.000000</td>\n",
       "      <td>48842.000000</td>\n",
       "    </tr>\n",
       "    <tr>\n",
       "      <th>mean</th>\n",
       "      <td>38.643585</td>\n",
       "      <td>1.896641e+05</td>\n",
       "      <td>10.078089</td>\n",
       "      <td>1079.067626</td>\n",
       "      <td>87.502314</td>\n",
       "      <td>40.422382</td>\n",
       "    </tr>\n",
       "    <tr>\n",
       "      <th>std</th>\n",
       "      <td>13.710510</td>\n",
       "      <td>1.056040e+05</td>\n",
       "      <td>2.570973</td>\n",
       "      <td>7452.019058</td>\n",
       "      <td>403.004552</td>\n",
       "      <td>12.391444</td>\n",
       "    </tr>\n",
       "    <tr>\n",
       "      <th>min</th>\n",
       "      <td>17.000000</td>\n",
       "      <td>1.228500e+04</td>\n",
       "      <td>1.000000</td>\n",
       "      <td>0.000000</td>\n",
       "      <td>0.000000</td>\n",
       "      <td>1.000000</td>\n",
       "    </tr>\n",
       "    <tr>\n",
       "      <th>25%</th>\n",
       "      <td>28.000000</td>\n",
       "      <td>1.175505e+05</td>\n",
       "      <td>9.000000</td>\n",
       "      <td>0.000000</td>\n",
       "      <td>0.000000</td>\n",
       "      <td>40.000000</td>\n",
       "    </tr>\n",
       "    <tr>\n",
       "      <th>50%</th>\n",
       "      <td>37.000000</td>\n",
       "      <td>1.781445e+05</td>\n",
       "      <td>10.000000</td>\n",
       "      <td>0.000000</td>\n",
       "      <td>0.000000</td>\n",
       "      <td>40.000000</td>\n",
       "    </tr>\n",
       "    <tr>\n",
       "      <th>75%</th>\n",
       "      <td>48.000000</td>\n",
       "      <td>2.376420e+05</td>\n",
       "      <td>12.000000</td>\n",
       "      <td>0.000000</td>\n",
       "      <td>0.000000</td>\n",
       "      <td>45.000000</td>\n",
       "    </tr>\n",
       "    <tr>\n",
       "      <th>max</th>\n",
       "      <td>90.000000</td>\n",
       "      <td>1.490400e+06</td>\n",
       "      <td>16.000000</td>\n",
       "      <td>99999.000000</td>\n",
       "      <td>4356.000000</td>\n",
       "      <td>99.000000</td>\n",
       "    </tr>\n",
       "  </tbody>\n",
       "</table>\n",
       "</div>"
      ],
      "text/plain": [
       "                age        fnlwgt  education_num  capital_gain  capital_loss  \\\n",
       "count  48842.000000  4.884200e+04   48842.000000  48842.000000  48842.000000   \n",
       "mean      38.643585  1.896641e+05      10.078089   1079.067626     87.502314   \n",
       "std       13.710510  1.056040e+05       2.570973   7452.019058    403.004552   \n",
       "min       17.000000  1.228500e+04       1.000000      0.000000      0.000000   \n",
       "25%       28.000000  1.175505e+05       9.000000      0.000000      0.000000   \n",
       "50%       37.000000  1.781445e+05      10.000000      0.000000      0.000000   \n",
       "75%       48.000000  2.376420e+05      12.000000      0.000000      0.000000   \n",
       "max       90.000000  1.490400e+06      16.000000  99999.000000   4356.000000   \n",
       "\n",
       "       hours_per_week  \n",
       "count    48842.000000  \n",
       "mean        40.422382  \n",
       "std         12.391444  \n",
       "min          1.000000  \n",
       "25%         40.000000  \n",
       "50%         40.000000  \n",
       "75%         45.000000  \n",
       "max         99.000000  "
      ]
     },
     "execution_count": 6,
     "metadata": {},
     "output_type": "execute_result"
    }
   ],
   "source": [
    "census_data.describe()"
   ]
  },
  {
   "cell_type": "code",
   "execution_count": 7,
   "metadata": {},
   "outputs": [
    {
     "data": {
      "text/html": [
       "<div>\n",
       "<style scoped>\n",
       "    .dataframe tbody tr th:only-of-type {\n",
       "        vertical-align: middle;\n",
       "    }\n",
       "\n",
       "    .dataframe tbody tr th {\n",
       "        vertical-align: top;\n",
       "    }\n",
       "\n",
       "    .dataframe thead th {\n",
       "        text-align: right;\n",
       "    }\n",
       "</style>\n",
       "<table border=\"1\" class=\"dataframe\">\n",
       "  <thead>\n",
       "    <tr style=\"text-align: right;\">\n",
       "      <th></th>\n",
       "      <th>age</th>\n",
       "      <th>fnlwgt</th>\n",
       "      <th>education_num</th>\n",
       "      <th>capital_gain</th>\n",
       "      <th>capital_loss</th>\n",
       "      <th>hours_per_week</th>\n",
       "    </tr>\n",
       "  </thead>\n",
       "  <tbody>\n",
       "    <tr>\n",
       "      <th>age</th>\n",
       "      <td>1.000000</td>\n",
       "      <td>-0.076628</td>\n",
       "      <td>0.030940</td>\n",
       "      <td>0.077229</td>\n",
       "      <td>0.056944</td>\n",
       "      <td>0.071558</td>\n",
       "    </tr>\n",
       "    <tr>\n",
       "      <th>fnlwgt</th>\n",
       "      <td>-0.076628</td>\n",
       "      <td>1.000000</td>\n",
       "      <td>-0.038761</td>\n",
       "      <td>-0.003706</td>\n",
       "      <td>-0.004366</td>\n",
       "      <td>-0.013519</td>\n",
       "    </tr>\n",
       "    <tr>\n",
       "      <th>education_num</th>\n",
       "      <td>0.030940</td>\n",
       "      <td>-0.038761</td>\n",
       "      <td>1.000000</td>\n",
       "      <td>0.125146</td>\n",
       "      <td>0.080972</td>\n",
       "      <td>0.143689</td>\n",
       "    </tr>\n",
       "    <tr>\n",
       "      <th>capital_gain</th>\n",
       "      <td>0.077229</td>\n",
       "      <td>-0.003706</td>\n",
       "      <td>0.125146</td>\n",
       "      <td>1.000000</td>\n",
       "      <td>-0.031441</td>\n",
       "      <td>0.082157</td>\n",
       "    </tr>\n",
       "    <tr>\n",
       "      <th>capital_loss</th>\n",
       "      <td>0.056944</td>\n",
       "      <td>-0.004366</td>\n",
       "      <td>0.080972</td>\n",
       "      <td>-0.031441</td>\n",
       "      <td>1.000000</td>\n",
       "      <td>0.054467</td>\n",
       "    </tr>\n",
       "    <tr>\n",
       "      <th>hours_per_week</th>\n",
       "      <td>0.071558</td>\n",
       "      <td>-0.013519</td>\n",
       "      <td>0.143689</td>\n",
       "      <td>0.082157</td>\n",
       "      <td>0.054467</td>\n",
       "      <td>1.000000</td>\n",
       "    </tr>\n",
       "  </tbody>\n",
       "</table>\n",
       "</div>"
      ],
      "text/plain": [
       "                     age    fnlwgt  education_num  capital_gain  capital_loss  \\\n",
       "age             1.000000 -0.076628       0.030940      0.077229      0.056944   \n",
       "fnlwgt         -0.076628  1.000000      -0.038761     -0.003706     -0.004366   \n",
       "education_num   0.030940 -0.038761       1.000000      0.125146      0.080972   \n",
       "capital_gain    0.077229 -0.003706       0.125146      1.000000     -0.031441   \n",
       "capital_loss    0.056944 -0.004366       0.080972     -0.031441      1.000000   \n",
       "hours_per_week  0.071558 -0.013519       0.143689      0.082157      0.054467   \n",
       "\n",
       "                hours_per_week  \n",
       "age                   0.071558  \n",
       "fnlwgt               -0.013519  \n",
       "education_num         0.143689  \n",
       "capital_gain          0.082157  \n",
       "capital_loss          0.054467  \n",
       "hours_per_week        1.000000  "
      ]
     },
     "execution_count": 7,
     "metadata": {},
     "output_type": "execute_result"
    }
   ],
   "source": [
    "census_data.corr()"
   ]
  },
  {
   "cell_type": "code",
   "execution_count": 8,
   "metadata": {},
   "outputs": [
    {
     "data": {
      "text/html": [
       "<style  type=\"text/css\" >\n",
       "    #T_87131160_b021_11e9_aefd_3c6aa7c3ede4row0_col0 {\n",
       "            background-color:  #b40426;\n",
       "            color:  #f1f1f1;\n",
       "        }    #T_87131160_b021_11e9_aefd_3c6aa7c3ede4row0_col1 {\n",
       "            background-color:  #3b4cc0;\n",
       "            color:  #f1f1f1;\n",
       "        }    #T_87131160_b021_11e9_aefd_3c6aa7c3ede4row0_col2 {\n",
       "            background-color:  #4f69d9;\n",
       "            color:  #000000;\n",
       "        }    #T_87131160_b021_11e9_aefd_3c6aa7c3ede4row0_col3 {\n",
       "            background-color:  #5a78e4;\n",
       "            color:  #000000;\n",
       "        }    #T_87131160_b021_11e9_aefd_3c6aa7c3ede4row0_col4 {\n",
       "            background-color:  #5470de;\n",
       "            color:  #000000;\n",
       "        }    #T_87131160_b021_11e9_aefd_3c6aa7c3ede4row0_col5 {\n",
       "            background-color:  #5470de;\n",
       "            color:  #000000;\n",
       "        }    #T_87131160_b021_11e9_aefd_3c6aa7c3ede4row1_col0 {\n",
       "            background-color:  #3b4cc0;\n",
       "            color:  #f1f1f1;\n",
       "        }    #T_87131160_b021_11e9_aefd_3c6aa7c3ede4row1_col1 {\n",
       "            background-color:  #b40426;\n",
       "            color:  #f1f1f1;\n",
       "        }    #T_87131160_b021_11e9_aefd_3c6aa7c3ede4row1_col2 {\n",
       "            background-color:  #3b4cc0;\n",
       "            color:  #f1f1f1;\n",
       "        }    #T_87131160_b021_11e9_aefd_3c6aa7c3ede4row1_col3 {\n",
       "            background-color:  #4257c9;\n",
       "            color:  #f1f1f1;\n",
       "        }    #T_87131160_b021_11e9_aefd_3c6aa7c3ede4row1_col4 {\n",
       "            background-color:  #4257c9;\n",
       "            color:  #f1f1f1;\n",
       "        }    #T_87131160_b021_11e9_aefd_3c6aa7c3ede4row1_col5 {\n",
       "            background-color:  #3b4cc0;\n",
       "            color:  #f1f1f1;\n",
       "        }    #T_87131160_b021_11e9_aefd_3c6aa7c3ede4row2_col0 {\n",
       "            background-color:  #5977e3;\n",
       "            color:  #000000;\n",
       "        }    #T_87131160_b021_11e9_aefd_3c6aa7c3ede4row2_col1 {\n",
       "            background-color:  #455cce;\n",
       "            color:  #f1f1f1;\n",
       "        }    #T_87131160_b021_11e9_aefd_3c6aa7c3ede4row2_col2 {\n",
       "            background-color:  #b40426;\n",
       "            color:  #f1f1f1;\n",
       "        }    #T_87131160_b021_11e9_aefd_3c6aa7c3ede4row2_col3 {\n",
       "            background-color:  #6a8bef;\n",
       "            color:  #000000;\n",
       "        }    #T_87131160_b021_11e9_aefd_3c6aa7c3ede4row2_col4 {\n",
       "            background-color:  #5b7ae5;\n",
       "            color:  #000000;\n",
       "        }    #T_87131160_b021_11e9_aefd_3c6aa7c3ede4row2_col5 {\n",
       "            background-color:  #6b8df0;\n",
       "            color:  #000000;\n",
       "        }    #T_87131160_b021_11e9_aefd_3c6aa7c3ede4row3_col0 {\n",
       "            background-color:  #6788ee;\n",
       "            color:  #000000;\n",
       "        }    #T_87131160_b021_11e9_aefd_3c6aa7c3ede4row3_col1 {\n",
       "            background-color:  #4f69d9;\n",
       "            color:  #000000;\n",
       "        }    #T_87131160_b021_11e9_aefd_3c6aa7c3ede4row3_col2 {\n",
       "            background-color:  #6c8ff1;\n",
       "            color:  #000000;\n",
       "        }    #T_87131160_b021_11e9_aefd_3c6aa7c3ede4row3_col3 {\n",
       "            background-color:  #b40426;\n",
       "            color:  #f1f1f1;\n",
       "        }    #T_87131160_b021_11e9_aefd_3c6aa7c3ede4row3_col4 {\n",
       "            background-color:  #3b4cc0;\n",
       "            color:  #f1f1f1;\n",
       "        }    #T_87131160_b021_11e9_aefd_3c6aa7c3ede4row3_col5 {\n",
       "            background-color:  #5875e1;\n",
       "            color:  #000000;\n",
       "        }    #T_87131160_b021_11e9_aefd_3c6aa7c3ede4row4_col0 {\n",
       "            background-color:  #6180e9;\n",
       "            color:  #000000;\n",
       "        }    #T_87131160_b021_11e9_aefd_3c6aa7c3ede4row4_col1 {\n",
       "            background-color:  #4f69d9;\n",
       "            color:  #000000;\n",
       "        }    #T_87131160_b021_11e9_aefd_3c6aa7c3ede4row4_col2 {\n",
       "            background-color:  #5e7de7;\n",
       "            color:  #000000;\n",
       "        }    #T_87131160_b021_11e9_aefd_3c6aa7c3ede4row4_col3 {\n",
       "            background-color:  #3b4cc0;\n",
       "            color:  #f1f1f1;\n",
       "        }    #T_87131160_b021_11e9_aefd_3c6aa7c3ede4row4_col4 {\n",
       "            background-color:  #b40426;\n",
       "            color:  #f1f1f1;\n",
       "        }    #T_87131160_b021_11e9_aefd_3c6aa7c3ede4row4_col5 {\n",
       "            background-color:  #4f69d9;\n",
       "            color:  #000000;\n",
       "        }    #T_87131160_b021_11e9_aefd_3c6aa7c3ede4row5_col0 {\n",
       "            background-color:  #6687ed;\n",
       "            color:  #000000;\n",
       "        }    #T_87131160_b021_11e9_aefd_3c6aa7c3ede4row5_col1 {\n",
       "            background-color:  #4c66d6;\n",
       "            color:  #000000;\n",
       "        }    #T_87131160_b021_11e9_aefd_3c6aa7c3ede4row5_col2 {\n",
       "            background-color:  #7295f4;\n",
       "            color:  #000000;\n",
       "        }    #T_87131160_b021_11e9_aefd_3c6aa7c3ede4row5_col3 {\n",
       "            background-color:  #5d7ce6;\n",
       "            color:  #000000;\n",
       "        }    #T_87131160_b021_11e9_aefd_3c6aa7c3ede4row5_col4 {\n",
       "            background-color:  #5470de;\n",
       "            color:  #000000;\n",
       "        }    #T_87131160_b021_11e9_aefd_3c6aa7c3ede4row5_col5 {\n",
       "            background-color:  #b40426;\n",
       "            color:  #f1f1f1;\n",
       "        }</style><table id=\"T_87131160_b021_11e9_aefd_3c6aa7c3ede4\" ><thead>    <tr>        <th class=\"blank level0\" ></th>        <th class=\"col_heading level0 col0\" >age</th>        <th class=\"col_heading level0 col1\" >fnlwgt</th>        <th class=\"col_heading level0 col2\" >education_num</th>        <th class=\"col_heading level0 col3\" >capital_gain</th>        <th class=\"col_heading level0 col4\" >capital_loss</th>        <th class=\"col_heading level0 col5\" >hours_per_week</th>    </tr></thead><tbody>\n",
       "                <tr>\n",
       "                        <th id=\"T_87131160_b021_11e9_aefd_3c6aa7c3ede4level0_row0\" class=\"row_heading level0 row0\" >age</th>\n",
       "                        <td id=\"T_87131160_b021_11e9_aefd_3c6aa7c3ede4row0_col0\" class=\"data row0 col0\" >1</td>\n",
       "                        <td id=\"T_87131160_b021_11e9_aefd_3c6aa7c3ede4row0_col1\" class=\"data row0 col1\" >-0.0766281</td>\n",
       "                        <td id=\"T_87131160_b021_11e9_aefd_3c6aa7c3ede4row0_col2\" class=\"data row0 col2\" >0.0309404</td>\n",
       "                        <td id=\"T_87131160_b021_11e9_aefd_3c6aa7c3ede4row0_col3\" class=\"data row0 col3\" >0.077229</td>\n",
       "                        <td id=\"T_87131160_b021_11e9_aefd_3c6aa7c3ede4row0_col4\" class=\"data row0 col4\" >0.0569438</td>\n",
       "                        <td id=\"T_87131160_b021_11e9_aefd_3c6aa7c3ede4row0_col5\" class=\"data row0 col5\" >0.0715583</td>\n",
       "            </tr>\n",
       "            <tr>\n",
       "                        <th id=\"T_87131160_b021_11e9_aefd_3c6aa7c3ede4level0_row1\" class=\"row_heading level0 row1\" >fnlwgt</th>\n",
       "                        <td id=\"T_87131160_b021_11e9_aefd_3c6aa7c3ede4row1_col0\" class=\"data row1 col0\" >-0.0766281</td>\n",
       "                        <td id=\"T_87131160_b021_11e9_aefd_3c6aa7c3ede4row1_col1\" class=\"data row1 col1\" >1</td>\n",
       "                        <td id=\"T_87131160_b021_11e9_aefd_3c6aa7c3ede4row1_col2\" class=\"data row1 col2\" >-0.0387607</td>\n",
       "                        <td id=\"T_87131160_b021_11e9_aefd_3c6aa7c3ede4row1_col3\" class=\"data row1 col3\" >-0.00370639</td>\n",
       "                        <td id=\"T_87131160_b021_11e9_aefd_3c6aa7c3ede4row1_col4\" class=\"data row1 col4\" >-0.00436615</td>\n",
       "                        <td id=\"T_87131160_b021_11e9_aefd_3c6aa7c3ede4row1_col5\" class=\"data row1 col5\" >-0.0135187</td>\n",
       "            </tr>\n",
       "            <tr>\n",
       "                        <th id=\"T_87131160_b021_11e9_aefd_3c6aa7c3ede4level0_row2\" class=\"row_heading level0 row2\" >education_num</th>\n",
       "                        <td id=\"T_87131160_b021_11e9_aefd_3c6aa7c3ede4row2_col0\" class=\"data row2 col0\" >0.0309404</td>\n",
       "                        <td id=\"T_87131160_b021_11e9_aefd_3c6aa7c3ede4row2_col1\" class=\"data row2 col1\" >-0.0387607</td>\n",
       "                        <td id=\"T_87131160_b021_11e9_aefd_3c6aa7c3ede4row2_col2\" class=\"data row2 col2\" >1</td>\n",
       "                        <td id=\"T_87131160_b021_11e9_aefd_3c6aa7c3ede4row2_col3\" class=\"data row2 col3\" >0.125146</td>\n",
       "                        <td id=\"T_87131160_b021_11e9_aefd_3c6aa7c3ede4row2_col4\" class=\"data row2 col4\" >0.0809719</td>\n",
       "                        <td id=\"T_87131160_b021_11e9_aefd_3c6aa7c3ede4row2_col5\" class=\"data row2 col5\" >0.143689</td>\n",
       "            </tr>\n",
       "            <tr>\n",
       "                        <th id=\"T_87131160_b021_11e9_aefd_3c6aa7c3ede4level0_row3\" class=\"row_heading level0 row3\" >capital_gain</th>\n",
       "                        <td id=\"T_87131160_b021_11e9_aefd_3c6aa7c3ede4row3_col0\" class=\"data row3 col0\" >0.077229</td>\n",
       "                        <td id=\"T_87131160_b021_11e9_aefd_3c6aa7c3ede4row3_col1\" class=\"data row3 col1\" >-0.00370639</td>\n",
       "                        <td id=\"T_87131160_b021_11e9_aefd_3c6aa7c3ede4row3_col2\" class=\"data row3 col2\" >0.125146</td>\n",
       "                        <td id=\"T_87131160_b021_11e9_aefd_3c6aa7c3ede4row3_col3\" class=\"data row3 col3\" >1</td>\n",
       "                        <td id=\"T_87131160_b021_11e9_aefd_3c6aa7c3ede4row3_col4\" class=\"data row3 col4\" >-0.0314408</td>\n",
       "                        <td id=\"T_87131160_b021_11e9_aefd_3c6aa7c3ede4row3_col5\" class=\"data row3 col5\" >0.0821573</td>\n",
       "            </tr>\n",
       "            <tr>\n",
       "                        <th id=\"T_87131160_b021_11e9_aefd_3c6aa7c3ede4level0_row4\" class=\"row_heading level0 row4\" >capital_loss</th>\n",
       "                        <td id=\"T_87131160_b021_11e9_aefd_3c6aa7c3ede4row4_col0\" class=\"data row4 col0\" >0.0569438</td>\n",
       "                        <td id=\"T_87131160_b021_11e9_aefd_3c6aa7c3ede4row4_col1\" class=\"data row4 col1\" >-0.00436615</td>\n",
       "                        <td id=\"T_87131160_b021_11e9_aefd_3c6aa7c3ede4row4_col2\" class=\"data row4 col2\" >0.0809719</td>\n",
       "                        <td id=\"T_87131160_b021_11e9_aefd_3c6aa7c3ede4row4_col3\" class=\"data row4 col3\" >-0.0314408</td>\n",
       "                        <td id=\"T_87131160_b021_11e9_aefd_3c6aa7c3ede4row4_col4\" class=\"data row4 col4\" >1</td>\n",
       "                        <td id=\"T_87131160_b021_11e9_aefd_3c6aa7c3ede4row4_col5\" class=\"data row4 col5\" >0.0544672</td>\n",
       "            </tr>\n",
       "            <tr>\n",
       "                        <th id=\"T_87131160_b021_11e9_aefd_3c6aa7c3ede4level0_row5\" class=\"row_heading level0 row5\" >hours_per_week</th>\n",
       "                        <td id=\"T_87131160_b021_11e9_aefd_3c6aa7c3ede4row5_col0\" class=\"data row5 col0\" >0.0715583</td>\n",
       "                        <td id=\"T_87131160_b021_11e9_aefd_3c6aa7c3ede4row5_col1\" class=\"data row5 col1\" >-0.0135187</td>\n",
       "                        <td id=\"T_87131160_b021_11e9_aefd_3c6aa7c3ede4row5_col2\" class=\"data row5 col2\" >0.143689</td>\n",
       "                        <td id=\"T_87131160_b021_11e9_aefd_3c6aa7c3ede4row5_col3\" class=\"data row5 col3\" >0.0821573</td>\n",
       "                        <td id=\"T_87131160_b021_11e9_aefd_3c6aa7c3ede4row5_col4\" class=\"data row5 col4\" >0.0544672</td>\n",
       "                        <td id=\"T_87131160_b021_11e9_aefd_3c6aa7c3ede4row5_col5\" class=\"data row5 col5\" >1</td>\n",
       "            </tr>\n",
       "    </tbody></table>"
      ],
      "text/plain": [
       "<pandas.io.formats.style.Styler at 0x7fe815a37668>"
      ]
     },
     "execution_count": 8,
     "metadata": {},
     "output_type": "execute_result"
    }
   ],
   "source": [
    "corr = census_data.corr()\n",
    "corr.style.background_gradient(cmap='coolwarm')"
   ]
  },
  {
   "cell_type": "code",
   "execution_count": 9,
   "metadata": {},
   "outputs": [
    {
     "data": {
      "text/plain": [
       "<matplotlib.axes._subplots.AxesSubplot at 0x7fe81281e438>"
      ]
     },
     "execution_count": 9,
     "metadata": {},
     "output_type": "execute_result"
    },
    {
     "data": {
      "image/png": "[encoded data removed]",
      "text/plain": [
       "<Figure size 432x288 with 1 Axes>"
      ]
     },
     "metadata": {
      "needs_background": "light"
     },
     "output_type": "display_data"
    }
   ],
   "source": [
    "census_data.plot(x = 'age', y = 'hours_per_week', kind = 'scatter')"
   ]
  },
  {
   "cell_type": "code",
   "execution_count": 10,
   "metadata": {},
   "outputs": [
    {
     "data": {
      "text/plain": [
       "<matplotlib.axes._subplots.AxesSubplot at 0x7fe815a374a8>"
      ]
     },
     "execution_count": 10,
     "metadata": {},
     "output_type": "execute_result"
    },
    {
     "data": {
      "image/png": "[encoded data removed]",
      "text/plain": [
       "<Figure size 432x288 with 1 Axes>"
      ]
     },
     "metadata": {
      "needs_background": "light"
     },
     "output_type": "display_data"
    }
   ],
   "source": [
    "census_data.boxplot(column = 'age', by = 'income_level')"
   ]
  },
  {
   "cell_type": "code",
   "execution_count": 11,
   "metadata": {},
   "outputs": [
    {
     "data": {
      "text/plain": [
       "<matplotlib.axes._subplots.AxesSubplot at 0x7fe8100336a0>"
      ]
     },
     "execution_count": 11,
     "metadata": {},
     "output_type": "execute_result"
    },
    {
     "data": {
      "image/png": "[encoded data removed]",
      "text/plain": [
       "<Figure size 432x288 with 1 Axes>"
      ]
     },
     "metadata": {
      "needs_background": "light"
     },
     "output_type": "display_data"
    }
   ],
   "source": [
    "census_data.boxplot(column = 'age', by = 'workclass')"
   ]
  },
  {
   "cell_type": "code",
   "execution_count": 12,
   "metadata": {},
   "outputs": [],
   "source": [
    "oh_census = pd.get_dummies(census_data, drop_first = True)"
   ]
  },
  {
   "cell_type": "code",
   "execution_count": 13,
   "metadata": {},
   "outputs": [
    {
     "data": {
      "text/plain": [
       "(48842, 101)"
      ]
     },
     "execution_count": 13,
     "metadata": {},
     "output_type": "execute_result"
    }
   ],
   "source": [
    "oh_census.shape"
   ]
  },
  {
   "cell_type": "code",
   "execution_count": 14,
   "metadata": {},
   "outputs": [],
   "source": [
    "from sklearn.model_selection import train_test_split"
   ]
  },
  {
   "cell_type": "code",
   "execution_count": 15,
   "metadata": {},
   "outputs": [],
   "source": [
    "y = oh_census['income_level_1.0']\n",
    "X = oh_census.drop('income_level_1.0', axis = 1)"
   ]
  },
  {
   "cell_type": "code",
   "execution_count": 16,
   "metadata": {},
   "outputs": [],
   "source": [
    "X_train, X_test, y_train, y_test = train_test_split(X, y, \n",
    "                                                    test_size = 0.25)"
   ]
  },
  {
   "cell_type": "code",
   "execution_count": 17,
   "metadata": {},
   "outputs": [],
   "source": [
    "from sklearn.linear_model import LogisticRegression"
   ]
  },
  {
   "cell_type": "code",
   "execution_count": 18,
   "metadata": {},
   "outputs": [],
   "source": [
    "lr_clf = LogisticRegression()"
   ]
  },
  {
   "cell_type": "code",
   "execution_count": 19,
   "metadata": {},
   "outputs": [
    {
     "name": "stderr",
     "output_type": "stream",
     "text": [
      "/home/kropotkin/.local/lib/python3.6/site-packages/sklearn/linear_model/logistic.py:432: FutureWarning: Default solver will be changed to 'lbfgs' in 0.22. Specify a solver to silence this warning.\n",
      "  FutureWarning)\n"
     ]
    },
    {
     "data": {
      "text/plain": [
       "LogisticRegression(C=1.0, class_weight=None, dual=False, fit_intercept=True,\n",
       "                   intercept_scaling=1, l1_ratio=None, max_iter=100,\n",
       "                   multi_class='warn', n_jobs=None, penalty='l2',\n",
       "                   random_state=None, solver='warn', tol=0.0001, verbose=0,\n",
       "                   warm_start=False)"
      ]
     },
     "execution_count": 19,
     "metadata": {},
     "output_type": "execute_result"
    }
   ],
   "source": [
    "lr_clf.fit(X_train, y_train)"
   ]
  },
  {
   "cell_type": "code",
   "execution_count": 20,
   "metadata": {},
   "outputs": [
    {
     "data": {
      "text/plain": [
       "0.7974939259097485"
      ]
     },
     "execution_count": 20,
     "metadata": {},
     "output_type": "execute_result"
    }
   ],
   "source": [
    "lr_clf.score(X_train, y_train)"
   ]
  },
  {
   "cell_type": "code",
   "execution_count": 21,
   "metadata": {},
   "outputs": [
    {
     "data": {
      "text/plain": [
       "0.8012447792973548"
      ]
     },
     "execution_count": 21,
     "metadata": {},
     "output_type": "execute_result"
    }
   ],
   "source": [
    "lr_clf.score(X_test, y_test)"
   ]
  },
  {
   "cell_type": "code",
   "execution_count": 22,
   "metadata": {},
   "outputs": [
    {
     "data": {
      "text/plain": [
       "array([[-5.42434511e-03, -3.55744439e-06, -2.38874576e-03,\n",
       "         3.36312752e-04,  7.71402812e-04, -1.00836879e-02,\n",
       "         1.47407725e-04,  1.01327736e-04, -1.56775166e-06,\n",
       "        -1.78069039e-03,  3.61463189e-04, -2.20808733e-05,\n",
       "        -2.79031122e-05, -4.82936623e-06, -4.00168819e-04,\n",
       "         2.17524337e-04, -1.63284057e-03,  6.21847436e-04,\n",
       "        -1.81208060e-05,  2.73131351e-04, -8.28935538e-04,\n",
       "        -1.21303662e-04, -4.18400538e-05, -9.03794612e-05,\n",
       "        -1.85768441e-04, -1.33623678e-04, -8.81653328e-06,\n",
       "        -6.63765820e-05,  9.43303729e-04,  2.15204902e-06,\n",
       "         3.60638696e-03, -1.00719936e-04, -3.56470645e-03,\n",
       "        -2.86371213e-04, -2.81256453e-04, -6.75724309e-04,\n",
       "         8.98793324e-04,  5.80747542e-05, -6.17100094e-05,\n",
       "         2.09888841e-05, -1.19448299e-04,  1.74388224e-06,\n",
       "        -2.54239691e-04,  1.04202369e-03, -2.15856626e-04,\n",
       "        -3.75344595e-04, -4.04925295e-04, -1.08390428e-03,\n",
       "        -5.57765125e-05, -2.11654814e-03, -3.21065573e-04,\n",
       "        -1.93129180e-03, -1.00961514e-03,  3.77894443e-04,\n",
       "        -6.29861821e-05, -5.53267835e-04, -5.85173410e-05,\n",
       "        -9.62407368e-04,  9.10844803e-04,  3.73628537e-06,\n",
       "         8.65379934e-06, -4.34976048e-07,  2.92722514e-06,\n",
       "        -1.87678765e-05, -7.33276330e-06, -1.03307428e-06,\n",
       "        -4.62924632e-06, -1.21329127e-07,  3.54142959e-08,\n",
       "         8.47615582e-06,  9.60033008e-06,  5.00990913e-06,\n",
       "        -1.07323701e-07,  3.08327612e-06, -8.83677591e-06,\n",
       "         6.10192080e-06, -3.37126708e-06, -1.36015814e-04,\n",
       "        -5.83968828e-06, -3.35912830e-06, -4.46363879e-06,\n",
       "         2.00167713e-07,  5.70682921e-07, -5.38194859e-06,\n",
       "        -7.15478649e-06, -2.51038751e-05, -1.78205559e-06,\n",
       "        -1.71463538e-05,  5.00663999e-06, -7.62045047e-07,\n",
       "        -6.30166343e-06, -1.45046087e-03, -1.41212295e-05,\n",
       "        -1.63075520e-05,  2.80056132e-06,  5.68831867e-06,\n",
       "        -1.89677934e-05, -3.82818677e-06, -2.35152410e-05,\n",
       "         7.00319938e-06]])"
      ]
     },
     "execution_count": 22,
     "metadata": {},
     "output_type": "execute_result"
    }
   ],
   "source": [
    "lr_clf.coef_"
   ]
  },
  {
   "cell_type": "code",
   "execution_count": 23,
   "metadata": {},
   "outputs": [],
   "source": [
    "from sklearn.svm import SVC"
   ]
  },
  {
   "cell_type": "code",
   "execution_count": 24,
   "metadata": {},
   "outputs": [],
   "source": [
    "svm_clf = SVC()"
   ]
  },
  {
   "cell_type": "code",
   "execution_count": 25,
   "metadata": {
    "scrolled": true
   },
   "outputs": [],
   "source": [
    "#svm_clf.fit(X_train, y_train)\n"
   ]
  },
  {
   "cell_type": "code",
   "execution_count": 26,
   "metadata": {},
   "outputs": [],
   "source": [
    "from sklearn.neighbors import KNeighborsClassifier"
   ]
  },
  {
   "cell_type": "code",
   "execution_count": 31,
   "metadata": {},
   "outputs": [],
   "source": [
    "knn_clf = KNeighborsClassifier(n_neighbors = 5, n_jobs = -1)"
   ]
  },
  {
   "cell_type": "code",
   "execution_count": 32,
   "metadata": {},
   "outputs": [
    {
     "data": {
      "text/plain": [
       "KNeighborsClassifier(algorithm='auto', leaf_size=30, metric='minkowski',\n",
       "                     metric_params=None, n_jobs=-1, n_neighbors=5, p=2,\n",
       "                     weights='uniform')"
      ]
     },
     "execution_count": 32,
     "metadata": {},
     "output_type": "execute_result"
    }
   ],
   "source": [
    "knn_clf.fit(X_train, y_train)"
   ]
  },
  {
   "cell_type": "code",
   "execution_count": 33,
   "metadata": {},
   "outputs": [
    {
     "data": {
      "text/plain": [
       "0.836258906390762"
      ]
     },
     "execution_count": 33,
     "metadata": {},
     "output_type": "execute_result"
    }
   ],
   "source": [
    "knn_clf.score(X_train, y_train)"
   ]
  },
  {
   "cell_type": "code",
   "execution_count": 34,
   "metadata": {},
   "outputs": [
    {
     "data": {
      "text/plain": [
       "0.7785603144705593"
      ]
     },
     "execution_count": 34,
     "metadata": {},
     "output_type": "execute_result"
    }
   ],
   "source": [
    "knn_clf.score(X_test, y_test)"
   ]
  },
  {
   "cell_type": "code",
   "execution_count": 39,
   "metadata": {},
   "outputs": [],
   "source": [
    "from sklearn.model_selection import GridSearchCV"
   ]
  },
  {
   "cell_type": "code",
   "execution_count": 40,
   "metadata": {},
   "outputs": [],
   "source": [
    "params_dict = {'leaf_size': [5, 15, 20, 30],\n",
    "              'n_neighbors': [10, 25, 50, 100]}"
   ]
  },
  {
   "cell_type": "code",
   "execution_count": 41,
   "metadata": {},
   "outputs": [],
   "source": [
    "knn_clf = KNeighborsClassifier()"
   ]
  },
  {
   "cell_type": "code",
   "execution_count": 42,
   "metadata": {},
   "outputs": [],
   "source": [
    "grid_search = GridSearchCV(knn_clf, params_dict, cv = 2)"
   ]
  },
  {
   "cell_type": "code",
   "execution_count": 43,
   "metadata": {},
   "outputs": [
    {
     "data": {
      "text/plain": [
       "GridSearchCV(cv=2, error_score='raise-deprecating',\n",
       "             estimator=KNeighborsClassifier(algorithm='auto', leaf_size=30,\n",
       "                                            metric='minkowski',\n",
       "                                            metric_params=None, n_jobs=None,\n",
       "                                            n_neighbors=5, p=2,\n",
       "                                            weights='uniform'),\n",
       "             iid='warn', n_jobs=None,\n",
       "             param_grid={'leaf_size': [5, 15, 20, 30],\n",
       "                         'n_neighbors': [10, 25, 50, 100]},\n",
       "             pre_dispatch='2*n_jobs', refit=True, return_train_score=False,\n",
       "             scoring=None, verbose=0)"
      ]
     },
     "execution_count": 43,
     "metadata": {},
     "output_type": "execute_result"
    }
   ],
   "source": [
    "grid_search.fit(X_train, y_train)"
   ]
  },
  {
   "cell_type": "code",
   "execution_count": 44,
   "metadata": {},
   "outputs": [
    {
     "data": {
      "text/plain": [
       "0.7971117359613442"
      ]
     },
     "execution_count": 44,
     "metadata": {},
     "output_type": "execute_result"
    }
   ],
   "source": [
    "grid_search.best_score_"
   ]
  },
  {
   "cell_type": "code",
   "execution_count": 45,
   "metadata": {},
   "outputs": [
    {
     "data": {
      "text/plain": [
       "{'leaf_size': 5, 'n_neighbors': 25}"
      ]
     },
     "execution_count": 45,
     "metadata": {},
     "output_type": "execute_result"
    }
   ],
   "source": [
    "grid_search.best_params_"
   ]
  },
  {
   "cell_type": "code",
   "execution_count": null,
   "metadata": {},
   "outputs": [],
   "source": [
    "grid_search."
   ]
  }
 ],
 "metadata": {
  "kernelspec": {
   "display_name": "Python 3",
   "language": "python",
   "name": "python3"
  },
  "language_info": {
   "codemirror_mode": {
    "name": "ipython",
    "version": 3
   },
   "file_extension": ".py",
   "mimetype": "text/x-python",
   "name": "python",
   "nbconvert_exporter": "python",
   "pygments_lexer": "ipython3",
   "version": "3.6.8"
  }
 },
 "nbformat": 4,
 "nbformat_minor": 2
}
